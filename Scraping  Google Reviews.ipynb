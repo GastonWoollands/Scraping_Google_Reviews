{
 "cells": [
  {
   "cell_type": "code",
   "execution_count": 1,
   "metadata": {},
   "outputs": [],
   "source": [
    "import pandas as pd\n",
    "from selenium import webdriver\n",
    "from bs4 import BeautifulSoup\n",
    "import time\n",
    "#import nzpy"
   ]
  },
  {
   "cell_type": "markdown",
   "metadata": {},
   "source": [
    "#### Google Reviews Functuon Def"
   ]
  },
  {
   "cell_type": "markdown",
   "metadata": {},
   "source": [
    "###### Google Reviews v1"
   ]
  },
  {
   "cell_type": "code",
   "execution_count": null,
   "metadata": {},
   "outputs": [],
   "source": [
    "def get_review(cities):\n",
    "    rev_dict = {'City': [],\n",
    "                'Review': [],\n",
    "                'Direc' : []}\n",
    "    for city in cities:\n",
    "        print(f'Scraping {city} Google Reviews')\n",
    "        try:\n",
    "            driver = webdriver.Chrome('C:/Users/142845/Documents/Python Scripts/Drivers/chromedriver.exe')\n",
    "            driver.maximize_window()\n",
    "\n",
    "            driver.get(f\"https://www.google.com/search?q=fossil+store+{city}\")\n",
    "            driver.find_element_by_xpath('//*[@id=\"L2AGLb\"]/div').click() #Accept cookies\n",
    "            time.sleep(2)\n",
    "\n",
    "            driver.find_element_by_xpath('//*[@id=\"lu_map\"]').click() #Google Maps\n",
    "            response = BeautifulSoup(driver.page_source, 'html.parser')\n",
    "            direc = response.find('div', class_='Io6YTe fontBodyMedium').text\n",
    "\n",
    "            time.sleep(2)\n",
    "\n",
    "            driver.find_element_by_xpath('//*[@id=\"pane\"]/div/div[1]/div/div/div[2]/div[1]/div[1]/div[2]/div/div[1]/span[1]/span/span[1]/span[2]/span[1]/button').click() #Reviews\n",
    "            review = BeautifulSoup(driver.page_source, 'html.parser')\n",
    "            review = review.find('div', class_='fontDisplayLarge').text\n",
    "\n",
    "            rev_dict['City'].append(city)\n",
    "            rev_dict['Review'].append(review)\n",
    "            rev_dict['Direc'].append(direc)\n",
    "\n",
    "        except:\n",
    "            rev_dict['City'].append(city)\n",
    "            rev_dict['Review'].append(999)\n",
    "            rev_dict['Direc'].append(999)\n",
    "\n",
    "        driver.close()\n",
    "\n",
    "    return (pd.DataFrame(rev_dict))"
   ]
  },
  {
   "cell_type": "markdown",
   "metadata": {},
   "source": [
    "###### Google Reviews words and full reviews Functions"
   ]
  },
  {
   "cell_type": "code",
   "execution_count": 2,
   "metadata": {},
   "outputs": [],
   "source": [
    "#Get the most mentioned words in the Google's reviews\n",
    "def get_reviews_words(result_set):\n",
    "    rev_words = {'Word': []}\n",
    "    for result in result_set[1:-1]:\n",
    "        Word = result.find('span', class_='uEubGf gm2-body-2').text\n",
    "        rev_words['Word'].append(Word)\n",
    "    return list(rev_words.values())\n",
    "\n",
    "# Get the total reviews per Store\n",
    "def get_review_summary(result_set):\n",
    "    rev_dict = {'Review Rate': [],\n",
    "        'Review Time': [],\n",
    "        'Review Text' : []}\n",
    "    for result in result_set:\n",
    "        review_rate = result.find('span', class_='ODSEW-ShBeI-H1e3jb')[\"aria-label\"]\n",
    "        review_time = result.find('span',class_='ODSEW-ShBeI-RgZmSc-date').text\n",
    "        review_text = result.find('span',class_='ODSEW-ShBeI-text').text\n",
    "        rev_dict['Review Rate'].append(review_rate)\n",
    "        rev_dict['Review Time'].append(review_time)\n",
    "        rev_dict['Review Text'].append(review_text)\n",
    "\n",
    "    return(pd.DataFrame(rev_dict))"
   ]
  },
  {
   "cell_type": "markdown",
   "metadata": {},
   "source": [
    "###### Google Reviews v2. Include the most common words"
   ]
  },
  {
   "cell_type": "code",
   "execution_count": null,
   "metadata": {},
   "outputs": [],
   "source": [
    "#Google Reviews with the most common Words\n",
    "def get_review(cities):\n",
    "    rev_dict = {'City': [],\n",
    "                'Review': [],\n",
    "                'Direc' : [],\n",
    "                'Rev_Words' : []}\n",
    "                \n",
    "    for city in cities:\n",
    "        print(f'Scraping {city} Google Reviews')\n",
    "        try:\n",
    "            driver = webdriver.Chrome('C:/Users/142845/Documents/Python Scripts/Drivers/chromedriver.exe')\n",
    "            driver.maximize_window()\n",
    "\n",
    "            driver.get(f\"https://www.google.com/search?q=fossil+store+{city}\")\n",
    "            driver.find_element_by_xpath('//*[@id=\"L2AGLb\"]/div').click() #Accept cookies\n",
    "            time.sleep(2)\n",
    "\n",
    "            driver.find_element_by_xpath('//*[@id=\"lu_map\"]').click() #Google Maps\n",
    "            response = BeautifulSoup(driver.page_source, 'html.parser')\n",
    "            direc = response.find('div', class_='QSFF4-text gm2-body-2').text\n",
    "\n",
    "            #Stars Reviews\n",
    "            driver.find_element_by_xpath('//*[@id=\"pane\"]/div/div[1]/div/div/div[2]/div[1]/div[1]/div[2]/div/div[1]/span[1]/span/span[1]/span[2]/span[1]/button').click() #Reviews\n",
    "            review = BeautifulSoup(driver.page_source, 'html.parser')\n",
    "            review_stars = review.find('div', class_='gm2-display-2').text\n",
    "\n",
    "            #Most common review words. Use the function built above\n",
    "            reviews_words = BeautifulSoup(driver.page_source, 'html.parser')\n",
    "            reviews_words = reviews_words.find_all('div', class_='e2moi')\n",
    "\n",
    "            reviews_words = get_reviews_words(reviews_words)            \n",
    "\n",
    "            #Append\n",
    "            rev_dict['City'].append(city)\n",
    "            rev_dict['Review'].append(review_stars)\n",
    "            rev_dict['Direc'].append(direc)\n",
    "            rev_dict['Rev_Words'].append(reviews_words)\n",
    "\n",
    "        except:\n",
    "            rev_dict['City'].append(city)\n",
    "            rev_dict['Review'].append(999)\n",
    "            rev_dict['Direc'].append(999)\n",
    "            rev_dict['Rev_Words'].append(999)\n",
    "\n",
    "        driver.close()\n",
    "\n",
    "    return (pd.DataFrame(rev_dict))"
   ]
  },
  {
   "cell_type": "code",
   "execution_count": null,
   "metadata": {},
   "outputs": [],
   "source": [
    "stores['City_Add'] = stores.CITY_GEO + ' ' + stores.ADDR_1\n",
    "store_list = stores.City_Add.dropna().drop_duplicates(keep='first')\n",
    "reviews = get_review(store_list)"
   ]
  }
 ],
 "metadata": {
  "interpreter": {
   "hash": "40fc5f4278fff33e779ec6ee5e2d8156d12aedd1e032b58a6f2b1990cabea825"
  },
  "kernelspec": {
   "display_name": "Python 3.8.8 ('base')",
   "language": "python",
   "name": "python3"
  },
  "language_info": {
   "codemirror_mode": {
    "name": "ipython",
    "version": 3
   },
   "file_extension": ".py",
   "mimetype": "text/x-python",
   "name": "python",
   "nbconvert_exporter": "python",
   "pygments_lexer": "ipython3",
   "version": "3.8.8"
  },
  "orig_nbformat": 4
 },
 "nbformat": 4,
 "nbformat_minor": 2
}
